{
  "nbformat": 4,
  "nbformat_minor": 0,
  "metadata": {
    "colab": {
      "provenance": [],
      "authorship_tag": "ABX9TyPrU6oai43rYRYO/PLjjE0U",
      "include_colab_link": true
    },
    "kernelspec": {
      "name": "python3",
      "display_name": "Python 3"
    },
    "language_info": {
      "name": "python"
    }
  },
  "cells": [
    {
      "cell_type": "markdown",
      "metadata": {
        "id": "view-in-github",
        "colab_type": "text"
      },
      "source": [
        "<a href=\"https://colab.research.google.com/github/gopiarella/Gopi/blob/main/Copy_of_oops(class%2Cobject)_7.ipynb\" target=\"_parent\"><img src=\"https://colab.research.google.com/assets/colab-badge.svg\" alt=\"Open In Colab\"/></a>"
      ]
    },
    {
      "cell_type": "markdown",
      "source": [
        "##oops concepts\n",
        "###classes and objectives in python"
      ],
      "metadata": {
        "id": "kOLBu9taGrlX"
      }
    },
    {
      "cell_type": "code",
      "execution_count": null,
      "metadata": {
        "colab": {
          "base_uri": "https://localhost:8080/"
        },
        "id": "UqQyLWzgGjZ3",
        "outputId": "7987e73d-de7b-43bc-9c78-eb88384b063b"
      },
      "outputs": [
        {
          "output_type": "stream",
          "name": "stdout",
          "text": [
            "gopi\n",
            "90\n"
          ]
        }
      ],
      "source": [
        "class Student:  #creating a class\n",
        "  name=\"\"\n",
        "  marks=0\n",
        "obj=Student()   #creating an object of a class\n",
        "obj.name=\"gopi\" #accessing attributes of a class by using objective\n",
        "obj.marks=90\n",
        "print(obj.name)\n",
        "print(obj.marks)"
      ]
    },
    {
      "cell_type": "code",
      "source": [
        "class Student:\n",
        "  name=\"\"\n",
        "  marks=0\n",
        "  def result(self):    #method in a class self refers to the objects current attributes\n",
        "    if self.marks > 40:\n",
        "      return True\n",
        "    else:\n",
        "      return False\n",
        "obj=Student()\n",
        "obj.name=\"gopi\"\n",
        "obj.marks=80\n",
        "print(obj.result())   #calling a method of a class with its objects"
      ],
      "metadata": {
        "colab": {
          "base_uri": "https://localhost:8080/"
        },
        "id": "2XcKg9fxLhP7",
        "outputId": "44f4bdcf-2b8b-41d1-f4cd-ef47adcfd9da"
      },
      "execution_count": null,
      "outputs": [
        {
          "output_type": "stream",
          "name": "stdout",
          "text": [
            "True\n"
          ]
        }
      ]
    },
    {
      "cell_type": "markdown",
      "source": [
        "##__init__() method"
      ],
      "metadata": {
        "id": "dkvw_cxeQpsq"
      }
    },
    {
      "cell_type": "code",
      "source": [
        "class Student:\n",
        "  name=\"\"\n",
        "  marks=0\n",
        "  def result(self):\n",
        "    self.name='gopi'\n",
        "    self.marks=90\n",
        "  def  __init__(self,name,marks):\n",
        "   self.name=name\n",
        "   self.marks=marks\n",
        "obj=Student(\"gopi\",90)\n",
        "obj1=Student(\"raju\",80)\n",
        "print(obj.name)\n",
        "print(obj.marks)\n",
        "print(obj1.name)\n",
        "print(obj1.marks)\n"
      ],
      "metadata": {
        "colab": {
          "base_uri": "https://localhost:8080/"
        },
        "id": "GiCXCZY2Qo2D",
        "outputId": "d4cb19f3-ac8c-42aa-a3be-e008444cc38f"
      },
      "execution_count": null,
      "outputs": [
        {
          "output_type": "stream",
          "name": "stdout",
          "text": [
            "gopi\n",
            "90\n",
            "raju\n",
            "80\n"
          ]
        }
      ]
    },
    {
      "cell_type": "code",
      "source": [
        "class Student:\n",
        "  def  __init__(self,name,marks):\n",
        "   self.name=name\n",
        "   self.marks=marks\n",
        "obj=Student(\"gopi\",90)\n",
        "obj1=Student(\"raju\",80)\n",
        "print(obj.name)\n",
        "print(obj.marks)\n",
        "print(obj1.name)\n",
        "print(obj1.marks)\n"
      ],
      "metadata": {
        "colab": {
          "base_uri": "https://localhost:8080/"
        },
        "id": "-I5ghaXETMj7",
        "outputId": "ca776c5a-5627-4191-8609-cc367b957af5"
      },
      "execution_count": null,
      "outputs": [
        {
          "output_type": "stream",
          "name": "stdout",
          "text": [
            "gopi\n",
            "90\n",
            "raju\n",
            "80\n"
          ]
        }
      ]
    },
    {
      "cell_type": "code",
      "source": [
        "class triangle:\n",
        "  a=0\n",
        "  b=0\n",
        "  c=0\n",
        "  def __init__(self,a,b,c):\n",
        "    self.a=a\n",
        "    self.b=b\n",
        "    self.c=c\n",
        "  def perimeter(self):\n",
        "    p=self.a+self.b+ self.c\n",
        "    return p\n",
        "obj=triangle(4,5,6)\n",
        "print(obj.perimeter())\n",
        "\n",
        "\n"
      ],
      "metadata": {
        "colab": {
          "base_uri": "https://localhost:8080/"
        },
        "id": "nVWMDXmpTzHv",
        "outputId": "f488e8aa-4231-4755-de2d-3c9c789330ce"
      },
      "execution_count": null,
      "outputs": [
        {
          "output_type": "stream",
          "name": "stdout",
          "text": [
            "15\n"
          ]
        }
      ]
    },
    {
      "cell_type": "code",
      "source": [
        "class Student:\n",
        "  print(\"hello all well come to class\")\n",
        "obj=Student()\n",
        "print(type(obj))"
      ],
      "metadata": {
        "colab": {
          "base_uri": "https://localhost:8080/"
        },
        "id": "DwFmSdqbYQit",
        "outputId": "7b07b9a8-9ffe-4ed4-8108-6040e1032f9b"
      },
      "execution_count": null,
      "outputs": [
        {
          "output_type": "stream",
          "name": "stdout",
          "text": [
            "hello all well come to class\n",
            "<class '__main__.Student'>\n"
          ]
        }
      ]
    },
    {
      "cell_type": "code",
      "source": [
        "class Student:\n",
        "  def func(self):\n",
        "    print(\"hello all well come to python class\")\n",
        "obj=Student()\n",
        "print(obj.func())"
      ],
      "metadata": {
        "colab": {
          "base_uri": "https://localhost:8080/"
        },
        "id": "Pz2z2o3EMTOU",
        "outputId": "b5625c92-fc60-47fe-909e-59260826e9a4"
      },
      "execution_count": null,
      "outputs": [
        {
          "output_type": "stream",
          "name": "stdout",
          "text": [
            "hello all well come to python class\n",
            "None\n"
          ]
        }
      ]
    },
    {
      "cell_type": "code",
      "source": [
        "class Student:\n",
        "  def func():\n",
        "    print(\"hello all well come to python class\")\n",
        "print(Student.func())"
      ],
      "metadata": {
        "colab": {
          "base_uri": "https://localhost:8080/"
        },
        "id": "nde4PxMEjKfy",
        "outputId": "6428f56d-cb6d-45f1-c87a-0126a1958785"
      },
      "execution_count": null,
      "outputs": [
        {
          "output_type": "stream",
          "name": "stdout",
          "text": [
            "hello all well come to python class\n",
            "None\n"
          ]
        }
      ]
    },
    {
      "cell_type": "code",
      "source": [
        "class Student:\n",
        "  year=2023\n",
        "  def func(self):\n",
        "    print('well come to sessipn',self.year)\n",
        "obj=Student()\n",
        "print(obj.func())"
      ],
      "metadata": {
        "colab": {
          "base_uri": "https://localhost:8080/"
        },
        "id": "vGGr1cX6lG4u",
        "outputId": "caca814a-814d-4626-9370-ad6d6e4fbc8d"
      },
      "execution_count": null,
      "outputs": [
        {
          "output_type": "stream",
          "name": "stdout",
          "text": [
            "well come to sessipn 2023\n",
            "None\n"
          ]
        }
      ]
    },
    {
      "cell_type": "code",
      "source": [
        "class Student:\n",
        "  def __init__(self,name,age):\n",
        "    self.name=name\n",
        "    self.age=age\n",
        "    print('well come',self.name)\n",
        "    print('age:',self.age)\n",
        "obj=Student('gopi',20)\n",
        "print(obj)\n"
      ],
      "metadata": {
        "colab": {
          "base_uri": "https://localhost:8080/"
        },
        "id": "Y7TCznVAl_yN",
        "outputId": "a1afc529-f84a-4edc-a694-ef79e7d1f15b"
      },
      "execution_count": null,
      "outputs": [
        {
          "output_type": "stream",
          "name": "stdout",
          "text": [
            "well come gopi\n",
            "age: 20\n",
            "<__main__.Student object at 0x7ea8983f1030>\n"
          ]
        }
      ]
    },
    {
      "cell_type": "code",
      "source": [
        "class Student:\n",
        "  Total=500\n",
        "  def __init__(self,marks):\n",
        "    self.marks=marks\n",
        "    print(\"initialized\")\n",
        "  def findLoss(self):\n",
        "    return self.Total-self.marks\n",
        "  def Percentage(self):\n",
        "     return self.marks/self.Total*100\n",
        "obj=Student(marks=450)\n",
        "print('total marks:',obj.Total)\n",
        "print(\"loss marks:\",obj.findLoss())\n",
        "print(\"percentage:\",obj.Percentage())\n"
      ],
      "metadata": {
        "colab": {
          "base_uri": "https://localhost:8080/"
        },
        "id": "2gI8zA96_LMh",
        "outputId": "cbba622f-0cef-459a-be72-6ba854e762f8"
      },
      "execution_count": null,
      "outputs": [
        {
          "output_type": "stream",
          "name": "stdout",
          "text": [
            "initialized\n",
            "total marks: 500\n",
            "loss marks: 50\n",
            "percentage: 90.0\n"
          ]
        }
      ]
    }
  ]
}