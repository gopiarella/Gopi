{
  "nbformat": 4,
  "nbformat_minor": 0,
  "metadata": {
    "colab": {
      "provenance": [],
      "authorship_tag": "ABX9TyM+popV+0nfbjuNO0km5RL3",
      "include_colab_link": true
    },
    "kernelspec": {
      "name": "python3",
      "display_name": "Python 3"
    },
    "language_info": {
      "name": "python"
    }
  },
  "cells": [
    {
      "cell_type": "markdown",
      "metadata": {
        "id": "view-in-github",
        "colab_type": "text"
      },
      "source": [
        "<a href=\"https://colab.research.google.com/github/gopiarella/Gopi/blob/main/python_notes1.ipynb\" target=\"_parent\"><img src=\"https://colab.research.google.com/assets/colab-badge.svg\" alt=\"Open In Colab\"/></a>"
      ]
    },
    {
      "cell_type": "markdown",
      "source": [
        "#pthon\n",
        "\n"
      ],
      "metadata": {
        "id": "WyBYUoVCjF8G"
      }
    },
    {
      "cell_type": "markdown",
      "source": [
        "### arthmetic operators\n"
      ],
      "metadata": {
        "id": "rO06eJjZjPjo"
      }
    },
    {
      "cell_type": "code",
      "execution_count": null,
      "metadata": {
        "colab": {
          "base_uri": "https://localhost:8080/"
        },
        "id": "07GPx_2wi9PU",
        "outputId": "70f4d1c6-afed-470f-ddee-84b0bb4420d0"
      },
      "outputs": [
        {
          "output_type": "stream",
          "name": "stdout",
          "text": [
            "13\n"
          ]
        }
      ],
      "source": [
        "a=5\n",
        "b=8\n",
        "c=a+b\n",
        "print(c)"
      ]
    },
    {
      "cell_type": "code",
      "source": [
        "a=int ( input('enter value of a'))\n",
        "b=int (input(' enter the value of b'))\n",
        "sum=a+b\n",
        "sub=a-b\n",
        "mul=a*b\n",
        "div=a/b\n",
        "mod=a%b\n",
        "print(\"sum:{0},sub:{1},mul:{2},div:{3},mod:{4}\".format(sum,sub,mul,div,mod))\n",
        "print(\"sum:%d,sub:%d,mul:%d,div:%6.3f,mod:%d\"%(sum,sub,mul,div,mod))"
      ],
      "metadata": {
        "id": "dNLajre1jFgO"
      },
      "execution_count": null,
      "outputs": []
    },
    {
      "cell_type": "markdown",
      "source": [
        "#get input frim user"
      ],
      "metadata": {
        "id": "-If6S3SyHDO4"
      }
    },
    {
      "cell_type": "markdown",
      "source": [
        "exponential operator"
      ],
      "metadata": {
        "id": "KWVXLEzPHRux"
      }
    },
    {
      "cell_type": "code",
      "source": [
        "a=2\n",
        "b=3\n",
        "c=a**b\n",
        "print(c)"
      ],
      "metadata": {
        "colab": {
          "base_uri": "https://localhost:8080/"
        },
        "id": "s6JZzjzn-3GH",
        "outputId": "e1217dba-930a-4ab0-e9e7-47e459627338"
      },
      "execution_count": null,
      "outputs": [
        {
          "output_type": "stream",
          "name": "stdout",
          "text": [
            "8\n"
          ]
        }
      ]
    },
    {
      "cell_type": "markdown",
      "source": [
        "#2.creating a strings"
      ],
      "metadata": {
        "id": "GSuNNcDCHspQ"
      }
    },
    {
      "cell_type": "code",
      "source": [
        "a=\"python\"\n",
        "b=\"bootcamp\"\n",
        "print(a)\n",
        "print(b)"
      ],
      "metadata": {
        "colab": {
          "base_uri": "https://localhost:8080/"
        },
        "id": "nNoyud5aHzyY",
        "outputId": "3c03d4db-0f1e-4f14-da79-21ed6f1f255f"
      },
      "execution_count": null,
      "outputs": [
        {
          "output_type": "stream",
          "name": "stdout",
          "text": [
            "python\n",
            "bootcamp\n"
          ]
        }
      ]
    },
    {
      "cell_type": "markdown",
      "source": [
        "#length of a string"
      ],
      "metadata": {
        "id": "QJ1iuU7ZIkIn"
      }
    },
    {
      "cell_type": "markdown",
      "source": [],
      "metadata": {
        "id": "VWV-6WCfIZmo"
      }
    },
    {
      "cell_type": "code",
      "source": [
        "a=\"champ\"\n",
        "print(len(a))"
      ],
      "metadata": {
        "colab": {
          "base_uri": "https://localhost:8080/"
        },
        "id": "R_qoDYZuIpks",
        "outputId": "9a8de60a-4af7-43a7-9c4a-f09014aef54b"
      },
      "execution_count": null,
      "outputs": [
        {
          "output_type": "stream",
          "name": "stdout",
          "text": [
            "5\n"
          ]
        }
      ]
    },
    {
      "cell_type": "code",
      "source": [
        "a=\"wow\"\n",
        "print(a*5)"
      ],
      "metadata": {
        "colab": {
          "base_uri": "https://localhost:8080/"
        },
        "id": "eNy4HUFUI7UL",
        "outputId": "3254068e-1b2a-4a73-f003-e089d7d4a148"
      },
      "execution_count": null,
      "outputs": [
        {
          "output_type": "stream",
          "name": "stdout",
          "text": [
            "wowwowwowwowwow\n"
          ]
        }
      ]
    },
    {
      "cell_type": "markdown",
      "source": [
        "#string indexing"
      ],
      "metadata": {
        "id": "4YeLRRo1JTsO"
      }
    },
    {
      "cell_type": "code",
      "source": [
        "a=\"champ\"\n",
        "print(a[1])\n",
        "print(a[2])\n",
        "print(a[-1])\n",
        "print(a[2:])\n",
        "print(a[:2])\n",
        "print(a[::2])\n",
        "print(a[::-1])\n",
        "print(a[3:5])\n",
        "print(a[2::])\n",
        "print(a[:-1])\n"
      ],
      "metadata": {
        "colab": {
          "base_uri": "https://localhost:8080/"
        },
        "id": "-h_E3OyaJbOU",
        "outputId": "d29ca684-4aba-44fe-d592-58a5ea476ffd"
      },
      "execution_count": null,
      "outputs": [
        {
          "output_type": "stream",
          "name": "stdout",
          "text": [
            "h\n",
            "a\n",
            "p\n",
            "amp\n",
            "ch\n",
            "cap\n",
            "pmahc\n",
            "mp\n",
            "amp\n",
            "cham\n"
          ]
        }
      ]
    },
    {
      "cell_type": "markdown",
      "source": [
        "#string functions"
      ],
      "metadata": {
        "id": "p-ga_yUvLCyN"
      }
    },
    {
      "cell_type": "code",
      "source": [
        "a=\"data science\"\n",
        "print(a.upper()) #changing to upper case\n",
        "print(a.lower()) #chainging to lower case\n",
        "print(a.capitalize())"
      ],
      "metadata": {
        "colab": {
          "base_uri": "https://localhost:8080/"
        },
        "id": "y8yZl8e_LJRa",
        "outputId": "3123d13e-b20e-45fe-b850-1df83c00d275"
      },
      "execution_count": null,
      "outputs": [
        {
          "output_type": "stream",
          "name": "stdout",
          "text": [
            "DATA SCIENCE\n",
            "data science\n",
            "Data science\n"
          ]
        }
      ]
    },
    {
      "cell_type": "code",
      "source": [
        "a=\"sql,machinelearning,java,python\"\n",
        "print(a.split())\n",
        "print(a.split(\",\")) #splitting a string based on delimeter"
      ],
      "metadata": {
        "colab": {
          "base_uri": "https://localhost:8080/"
        },
        "id": "AGLglBEwMSDQ",
        "outputId": "5be9f3d6-97f3-447b-b142-09ed3b29a8d2"
      },
      "execution_count": null,
      "outputs": [
        {
          "output_type": "stream",
          "name": "stdout",
          "text": [
            "['sql,machinelearning,java,python']\n",
            "['sql', 'machinelearning', 'java', 'python']\n"
          ]
        }
      ]
    },
    {
      "cell_type": "markdown",
      "source": [
        "#string formating"
      ],
      "metadata": {
        "id": "4lK2D3uuOU8f"
      }
    },
    {
      "cell_type": "code",
      "source": [
        "a=\"data science\"\n",
        "print(f\"well come to {a}\")"
      ],
      "metadata": {
        "colab": {
          "base_uri": "https://localhost:8080/"
        },
        "id": "XcaOlJAxOalZ",
        "outputId": "d1dcbe4d-644a-470c-ce2c-be4c711da2ec"
      },
      "execution_count": null,
      "outputs": [
        {
          "output_type": "stream",
          "name": "stdout",
          "text": [
            "well come to data science\n"
          ]
        }
      ]
    },
    {
      "cell_type": "code",
      "source": [
        "a=\"data science\"\n",
        "print(\"well come to {0}\".format(a))"
      ],
      "metadata": {
        "colab": {
          "base_uri": "https://localhost:8080/"
        },
        "id": "jwV3ocFBO0Qn",
        "outputId": "22425d8b-94cc-40e1-ecc5-06db5d692633"
      },
      "execution_count": null,
      "outputs": [
        {
          "output_type": "stream",
          "name": "stdout",
          "text": [
            "well come to data science\n"
          ]
        }
      ]
    },
    {
      "cell_type": "markdown",
      "source": [
        "#python lists"
      ],
      "metadata": {
        "id": "e3XNM3Gi-I8P"
      }
    },
    {
      "cell_type": "code",
      "source": [
        "a=[1,3,5,4,2]\n",
        "print(a)\n",
        "a[2]=6\n",
        "a"
      ],
      "metadata": {
        "colab": {
          "base_uri": "https://localhost:8080/"
        },
        "id": "ASMQMnuP94JN",
        "outputId": "cbf300b1-4b6c-4dbf-de52-cbca7f418ffd"
      },
      "execution_count": null,
      "outputs": [
        {
          "output_type": "stream",
          "name": "stdout",
          "text": [
            "[1, 3, 5, 4, 2]\n"
          ]
        },
        {
          "output_type": "execute_result",
          "data": {
            "text/plain": [
              "[1, 3, 6, 4, 2]"
            ]
          },
          "metadata": {},
          "execution_count": 54
        }
      ]
    },
    {
      "cell_type": "code",
      "source": [
        "lst=[2,6,5,[3,4,5],\"gopi\",0.96]\n",
        "print(lst)"
      ],
      "metadata": {
        "colab": {
          "base_uri": "https://localhost:8080/"
        },
        "id": "9FSoqYYx-H0S",
        "outputId": "1b0c834b-0666-4e7d-9edd-c9eee179c3e5"
      },
      "execution_count": null,
      "outputs": [
        {
          "output_type": "stream",
          "name": "stdout",
          "text": [
            "[2, 6, 5, [3, 4, 5], 'gopi', 0.96]\n"
          ]
        }
      ]
    },
    {
      "cell_type": "markdown",
      "source": [
        "##list indexing"
      ],
      "metadata": {
        "id": "exzrnrRO-4pU"
      }
    },
    {
      "cell_type": "code",
      "source": [
        "a=[1,2,3,4,5]\n",
        "b=[\"champ\",6,8,7]\n",
        "print(b[1])\n",
        "print(b[:1])\n",
        "print(b[2:])\n",
        "print(b[::-1])\n",
        "print(b[0][0])\n",
        "print(a+b)\n",
        "print(len(b))"
      ],
      "metadata": {
        "colab": {
          "base_uri": "https://localhost:8080/"
        },
        "id": "3Z4Qs3DD-8XR",
        "outputId": "54071894-5e24-4d3d-c92f-7929ad8b91ce"
      },
      "execution_count": null,
      "outputs": [
        {
          "output_type": "stream",
          "name": "stdout",
          "text": [
            "6\n",
            "['champ']\n",
            "[8, 7]\n",
            "[7, 8, 6, 'champ']\n",
            "c\n",
            "[1, 2, 3, 4, 5, 'champ', 6, 8, 7]\n",
            "4\n"
          ]
        }
      ]
    },
    {
      "cell_type": "code",
      "source": [
        "a=[1,2,3,4,5]\n",
        "a.append(6)\n",
        "print(a)\n",
        "a.insert(1,\"gopi\")\n",
        "print(a)"
      ],
      "metadata": {
        "colab": {
          "base_uri": "https://localhost:8080/"
        },
        "id": "lKwHvVzKALIw",
        "outputId": "011b3511-a095-45e2-ebeb-a8764ec82af5"
      },
      "execution_count": null,
      "outputs": [
        {
          "output_type": "stream",
          "name": "stdout",
          "text": [
            "[1, 2, 3, 4, 5, 6]\n",
            "[1, 'gopi', 2, 3, 4, 5, 6]\n"
          ]
        }
      ]
    },
    {
      "cell_type": "code",
      "source": [
        "a.reverse()\n",
        "print(a)"
      ],
      "metadata": {
        "colab": {
          "base_uri": "https://localhost:8080/"
        },
        "id": "4Tw3baD4AmlV",
        "outputId": "758fb54a-200d-4bd9-a25a-fa311243c6f7"
      },
      "execution_count": null,
      "outputs": [
        {
          "output_type": "stream",
          "name": "stdout",
          "text": [
            "[6, 5, 4, 3, 2, 1]\n"
          ]
        }
      ]
    },
    {
      "cell_type": "code",
      "source": [
        "a=[1,2,3,4]\n",
        "a.pop()\n",
        "print(a)"
      ],
      "metadata": {
        "colab": {
          "base_uri": "https://localhost:8080/"
        },
        "id": "TPzeDzlwAvDQ",
        "outputId": "2837d3e7-564e-4721-c715-03a5b6d236a0"
      },
      "execution_count": null,
      "outputs": [
        {
          "output_type": "stream",
          "name": "stdout",
          "text": [
            "[1, 2, 3]\n"
          ]
        }
      ]
    },
    {
      "cell_type": "code",
      "source": [
        "a=[1,2,3,4]\n",
        "a.remove(2)\n",
        "print(a)"
      ],
      "metadata": {
        "colab": {
          "base_uri": "https://localhost:8080/"
        },
        "id": "1pZ-VBwECHYz",
        "outputId": "ee6c82fa-a189-428e-bfdd-d08160c81f54"
      },
      "execution_count": null,
      "outputs": [
        {
          "output_type": "stream",
          "name": "stdout",
          "text": [
            "[1, 3, 4]\n"
          ]
        }
      ]
    },
    {
      "cell_type": "markdown",
      "source": [
        "#**dictonaries**"
      ],
      "metadata": {
        "id": "1UgDjH2iCVA7"
      }
    },
    {
      "cell_type": "code",
      "source": [
        "dict={\"name\":\"gopi\",\"marks\":97,\"age\":19}\n",
        "print(dict)\n",
        "print(dict[\"name\"])\n",
        "print(dict['marks'])\n",
        "dict['marks']=100\n",
        "dict\n",
        "print(dict.keys())\n",
        "print(dict.values())\n",
        "print(dict.items())\n",
        "print(dict.get('name'))"
      ],
      "metadata": {
        "colab": {
          "base_uri": "https://localhost:8080/"
        },
        "id": "EVtjperrCdIC",
        "outputId": "b70de37c-8efd-4d3f-d647-e8bf5778aeda"
      },
      "execution_count": null,
      "outputs": [
        {
          "output_type": "stream",
          "name": "stdout",
          "text": [
            "{'name': 'gopi', 'marks': 97, 'age': 19}\n",
            "gopi\n",
            "97\n",
            "dict_keys(['name', 'marks', 'age'])\n",
            "dict_values(['gopi', 100, 19])\n",
            "dict_items([('name', 'gopi'), ('marks', 100), ('age', 19)])\n",
            "gopi\n"
          ]
        }
      ]
    },
    {
      "cell_type": "markdown",
      "source": [
        "#tuple"
      ],
      "metadata": {
        "id": "kS4TT0NeJd4Q"
      }
    },
    {
      "cell_type": "code",
      "source": [
        "a=('champ',2,3)\n",
        "print(a)\n",
        "print(a[0])\n",
        "print(len(a))\n",
        "print(a.index(\"champ\"))"
      ],
      "metadata": {
        "colab": {
          "base_uri": "https://localhost:8080/"
        },
        "id": "fkO9fK3-JgOX",
        "outputId": "bc4764b8-3955-41fc-dac8-92587bcf1ad0"
      },
      "execution_count": null,
      "outputs": [
        {
          "output_type": "stream",
          "name": "stdout",
          "text": [
            "('champ', 2, 3)\n",
            "champ\n",
            "3\n",
            "0\n"
          ]
        }
      ]
    },
    {
      "cell_type": "code",
      "source": [
        "a=set()"
      ],
      "metadata": {
        "id": "H1bL1w92LeEu"
      },
      "execution_count": null,
      "outputs": []
    },
    {
      "cell_type": "markdown",
      "source": [
        "#sets"
      ],
      "metadata": {
        "id": "3PeyE_NJMRfC"
      }
    },
    {
      "cell_type": "code",
      "source": [
        " a.add(30)\n",
        " a"
      ],
      "metadata": {
        "colab": {
          "base_uri": "https://localhost:8080/"
        },
        "id": "fBoFqxBEMCHR",
        "outputId": "6803dcbb-c6fa-4343-a549-57bf2aeca8e2"
      },
      "execution_count": null,
      "outputs": [
        {
          "output_type": "execute_result",
          "data": {
            "text/plain": [
              "{30}"
            ]
          },
          "metadata": {},
          "execution_count": 62
        }
      ]
    },
    {
      "cell_type": "code",
      "source": [
        "a={1,2,3,4,5}\n",
        "print(a)"
      ],
      "metadata": {
        "colab": {
          "base_uri": "https://localhost:8080/"
        },
        "id": "-K12AdxlMPSr",
        "outputId": "e144d59f-429c-4627-df95-d3eb0c545e74"
      },
      "execution_count": null,
      "outputs": [
        {
          "output_type": "stream",
          "name": "stdout",
          "text": [
            "{1, 2, 3, 4, 5}\n"
          ]
        }
      ]
    },
    {
      "cell_type": "code",
      "source": [
        "a=[1,2,3,4,5,6]\n",
        "from random import shuffle\n",
        "shuffle(a)\n",
        "print(a)\n"
      ],
      "metadata": {
        "colab": {
          "base_uri": "https://localhost:8080/"
        },
        "id": "k4Lqzl1hNjzv",
        "outputId": "f504552e-bd58-42a9-d6b7-b7b354de7243"
      },
      "execution_count": null,
      "outputs": [
        {
          "output_type": "stream",
          "name": "stdout",
          "text": [
            "[3, 1, 6, 4, 2, 5]\n"
          ]
        }
      ]
    }
  ]
}